{
  "nbformat": 4,
  "nbformat_minor": 0,
  "metadata": {
    "colab": {
      "name": "projectcnn.ipynb",
      "provenance": [],
      "collapsed_sections": []
    },
    "kernelspec": {
      "name": "python3",
      "display_name": "Python 3"
    }
  },
  "cells": [
    {
      "cell_type": "code",
      "metadata": {
        "id": "teaq3nxQQZtl",
        "colab_type": "code",
        "colab": {}
      },
      "source": [
        "import tensorflow as tf\n",
        "\n",
        "from tensorflow.keras.models import Sequential, load_model\n",
        "from tensorflow.keras.layers import Input, Dropout, Flatten, Conv2D, MaxPooling2D, Dense, Activation, Reshape, BatchNormalization, GlobalAveragePooling2D\n",
        "from tensorflow.keras.preprocessing.image import ImageDataGenerator\n",
        "from tensorflow.keras.callbacks import ModelCheckpoint, Callback, EarlyStopping\n",
        "from tensorflow.keras.optimizers import SGD, Adam\n",
        "from tensorflow.keras.utils import to_categorical\n",
        "\n",
        "import numpy as np\n",
        "import matplotlib.pyplot as plt\n",
        "import pickle\n"
      ],
      "execution_count": 14,
      "outputs": []
    },
    {
      "cell_type": "code",
      "metadata": {
        "id": "Lc6hyBRZQ_ZW",
        "colab_type": "code",
        "colab": {}
      },
      "source": [
        "#unpacking the data saved using pickle\n",
        "pickle_in = open(\"X_train.pickle\",\"rb\")\n",
        "X_train_o = pickle.load(pickle_in)\n",
        "\n",
        "pickle_in = open(\"y_train.pickle\",\"rb\")\n",
        "y_train_o = pickle.load(pickle_in)\n",
        "\n",
        "\n",
        "pickle_in = open(\"X_test.pickle\",\"rb\")\n",
        "X_test_o = pickle.load(pickle_in)\n",
        "\n",
        "pickle_in = open(\"y_test.pickle\",\"rb\")\n",
        "y_test_o = pickle.load(pickle_in)\n"
      ],
      "execution_count": 16,
      "outputs": []
    },
    {
      "cell_type": "code",
      "metadata": {
        "id": "qQqC3anrSnAk",
        "colab_type": "code",
        "colab": {
          "base_uri": "https://localhost:8080/",
          "height": 82
        },
        "outputId": "7e0f2fe5-4e78-40c4-e40b-a9b5893b6802"
      },
      "source": [
        "#categorising the y dataset and reshaping the x dataset\n",
        "\n",
        "IMG_SIZE=32\n",
        "y_train = to_categorical(y_train_o)\n",
        "y_test = to_categorical(y_test_o)\n",
        "X_train = np.array(X_train_o).reshape(-1, IMG_SIZE, IMG_SIZE,1)\n",
        "X_test = np.array(X_test_o).reshape(-1, IMG_SIZE, IMG_SIZE,1)\n",
        "\n",
        "\n",
        "print(\"The shape of x train data: {}\".format(X_train.shape))\n",
        "print(\"The shape of y train data: {}\".format( y_train.shape))\n",
        "print(\"The shape of x test data: {}\".format( X_test.shape))\n",
        "print(\"The shape of y test data: {}\".format( y_test.shape))"
      ],
      "execution_count": 33,
      "outputs": [
        {
          "output_type": "stream",
          "text": [
            "The shape of x train data: (78200, 32, 32, 1)\n",
            "The shape of y train data: (78200, 46)\n",
            "The shape of x test data: (13800, 32, 32, 1)\n",
            "The shape of y test data: (13800, 46)\n"
          ],
          "name": "stdout"
        }
      ]
    },
    {
      "cell_type": "code",
      "metadata": {
        "id": "_0KICOyi8ETz",
        "colab_type": "code",
        "colab": {
          "base_uri": "https://localhost:8080/",
          "height": 34
        },
        "outputId": "cb7fb84e-174c-440e-aabb-e9d94e67887c"
      },
      "source": [
        ""
      ],
      "execution_count": 7,
      "outputs": [
        {
          "output_type": "execute_result",
          "data": {
            "text/plain": [
              "(13800, 32, 32, 1)"
            ]
          },
          "metadata": {
            "tags": []
          },
          "execution_count": 7
        }
      ]
    },
    {
      "cell_type": "code",
      "metadata": {
        "id": "o5oFsA1aSqxV",
        "colab_type": "code",
        "colab": {}
      },
      "source": [
        "#parameter for compiling the model\n",
        "opt= Adam(learning_rate=0.001, beta_1=0.9, beta_2=0.999, epsilon=1e-07)\n",
        "objective = 'categorical_crossentropy'\n",
        "\n",
        "#parameter for the training (fit)\n",
        "epoch = 40\n",
        "batch_size = 64\n",
        "\n",
        "# Callback for loss logging per epoch\n",
        "class LossHistory(Callback):\n",
        "    def on_train_begin(self, logs={}):\n",
        "        self.losses = []\n",
        "        self.val_losses = []\n",
        "        self.acc = []\n",
        "        self.val_acc = []\n",
        "        \n",
        "    def on_epoch_end(self, batch, logs={}):\n",
        "        self.losses.append(logs.get('loss'))\n",
        "        self.val_losses.append(logs.get('val_loss'))\n",
        "        self.acc.append(logs.get('accuracy'))\n",
        "        self.val_acc.append(logs.get('val_accuracy'))\n",
        "#save the best model i.e. with lowest validation loss during the training\n",
        "mc = ModelCheckpoint('best_model2.h5', monitor='val_loss', mode='min', verbose=1,save_best_only=True)\n",
        "\n",
        "\n",
        "def NepNet():\n",
        "    model = Sequential()\n",
        "    model.add(Conv2D(64, (3, 3), padding=\"same\", input_shape=((32,32,1)))) #Convolutional layer-1\n",
        "    model.add(BatchNormalization()) #Batch Normalistion\n",
        "    model.add(Activation(\"relu\"))#activation funtion\n",
        "   \n",
        "    model.add(Conv2D(128, (3, 3), padding=\"same\")) #Convolutional layer-2\n",
        "    model.add(BatchNormalization())\n",
        "    model.add(Activation(\"relu\"))\n",
        "    model.add(MaxPooling2D(pool_size=(2, 2), strides=(2, 2)))#max-pooling\n",
        "  \n",
        "    model.add(Conv2D(256, (3, 3), padding=\"same\")) #Convolutional layer-3\n",
        "    model.add(BatchNormalization())\n",
        "    model.add(Activation(\"relu\"))\n",
        "\n",
        "    model.add(Conv2D(512, (3, 3), padding=\"same\"))#Convolutional layer-4\n",
        "    model.add(BatchNormalization())\n",
        "    model.add(Activation(\"relu\"))\n",
        "    model.add(MaxPooling2D(pool_size=(2, 2), strides=(2, 2)))#max-pooling\n",
        "    \n",
        "    model.add(Conv2D(512, (1, 1), padding=\"same\")) #Convolutional layer-5\n",
        "    model.add(BatchNormalization())\n",
        "    model.add(Activation(\"relu\"))\n",
        "    \n",
        "    model.add(Conv2D(46, (1, 1), padding=\"same\"))#Convolutional layer-6\n",
        "    model.add(BatchNormalization())\n",
        "    model.add(Activation(\"relu\"))\n",
        "    \n",
        "    model.add(GlobalAveragePooling2D()) #Global Average Pooling\n",
        "    \n",
        "    model.add(Dense(46, activation='softmax')) \n",
        "    model.compile(loss=objective, optimizer=opt, metrics=['accuracy'])\n",
        "    return model\n"
      ],
      "execution_count": 18,
      "outputs": []
    },
    {
      "cell_type": "code",
      "metadata": {
        "id": "EXjQdimyZV7j",
        "colab_type": "code",
        "colab": {}
      },
      "source": [
        "model= NepNet()\n",
        "def run_NepNet():\n",
        "    \n",
        "    history = LossHistory()\n",
        "    model.fit(X_train, y_train, batch_size=batch_size, epochs=epoch,\n",
        "              validation_split=0.05, verbose=1, shuffle=True, callbacks=[history,mc])\n",
        "    \n",
        "\n",
        "    predictions = model.predict(X_test, verbose=0)\n",
        "    return predictions, history"
      ],
      "execution_count": 27,
      "outputs": []
    },
    {
      "cell_type": "code",
      "metadata": {
        "id": "DLO1yiS9S2Kq",
        "colab_type": "code",
        "colab": {
          "base_uri": "https://localhost:8080/",
          "height": 1000
        },
        "outputId": "08d8f084-3086-4850-ef36-e25fb27e2759"
      },
      "source": [
        "predictions, history = run_NepNet()"
      ],
      "execution_count": 19,
      "outputs": [
        {
          "output_type": "stream",
          "text": [
            "Epoch 1/40\n",
            "1161/1161 [==============================] - ETA: 0s - loss: 0.9435 - accuracy: 0.8653\n",
            "Epoch 00001: val_loss improved from inf to 0.22207, saving model to best_model2.h5\n",
            "1161/1161 [==============================] - 25s 21ms/step - loss: 0.9435 - accuracy: 0.8653 - val_loss: 0.2221 - val_accuracy: 0.9601\n",
            "Epoch 2/40\n",
            "1160/1161 [============================>.] - ETA: 0s - loss: 0.0909 - accuracy: 0.9872\n",
            "Epoch 00002: val_loss improved from 0.22207 to 0.16860, saving model to best_model2.h5\n",
            "1161/1161 [==============================] - 25s 21ms/step - loss: 0.0909 - accuracy: 0.9872 - val_loss: 0.1686 - val_accuracy: 0.9532\n",
            "Epoch 3/40\n",
            "1160/1161 [============================>.] - ETA: 0s - loss: 0.0467 - accuracy: 0.9922\n",
            "Epoch 00003: val_loss improved from 0.16860 to 0.09858, saving model to best_model2.h5\n",
            "1161/1161 [==============================] - 25s 21ms/step - loss: 0.0467 - accuracy: 0.9922 - val_loss: 0.0986 - val_accuracy: 0.9765\n",
            "Epoch 4/40\n",
            "1161/1161 [==============================] - ETA: 0s - loss: 0.0322 - accuracy: 0.9940\n",
            "Epoch 00004: val_loss improved from 0.09858 to 0.08309, saving model to best_model2.h5\n",
            "1161/1161 [==============================] - 25s 21ms/step - loss: 0.0322 - accuracy: 0.9940 - val_loss: 0.0831 - val_accuracy: 0.9749\n",
            "Epoch 5/40\n",
            "1160/1161 [============================>.] - ETA: 0s - loss: 0.0223 - accuracy: 0.9958\n",
            "Epoch 00005: val_loss improved from 0.08309 to 0.06691, saving model to best_model2.h5\n",
            "1161/1161 [==============================] - 25s 21ms/step - loss: 0.0223 - accuracy: 0.9958 - val_loss: 0.0669 - val_accuracy: 0.9834\n",
            "Epoch 6/40\n",
            "1160/1161 [============================>.] - ETA: 0s - loss: 0.0201 - accuracy: 0.9956\n",
            "Epoch 00006: val_loss did not improve from 0.06691\n",
            "1161/1161 [==============================] - 25s 21ms/step - loss: 0.0201 - accuracy: 0.9956 - val_loss: 0.1165 - val_accuracy: 0.9685\n",
            "Epoch 7/40\n",
            "1160/1161 [============================>.] - ETA: 0s - loss: 0.0130 - accuracy: 0.9975\n",
            "Epoch 00007: val_loss did not improve from 0.06691\n",
            "1161/1161 [==============================] - 24s 21ms/step - loss: 0.0130 - accuracy: 0.9975 - val_loss: 0.1337 - val_accuracy: 0.9619\n",
            "Epoch 8/40\n",
            "1159/1161 [============================>.] - ETA: 0s - loss: 0.0133 - accuracy: 0.9970\n",
            "Epoch 00008: val_loss did not improve from 0.06691\n",
            "1161/1161 [==============================] - 25s 21ms/step - loss: 0.0133 - accuracy: 0.9970 - val_loss: 0.0720 - val_accuracy: 0.9795\n",
            "Epoch 9/40\n",
            "1159/1161 [============================>.] - ETA: 0s - loss: 0.0082 - accuracy: 0.9983\n",
            "Epoch 00009: val_loss did not improve from 0.06691\n",
            "1161/1161 [==============================] - 24s 21ms/step - loss: 0.0082 - accuracy: 0.9983 - val_loss: 0.0726 - val_accuracy: 0.9777\n",
            "Epoch 10/40\n",
            "1161/1161 [==============================] - ETA: 0s - loss: 0.0080 - accuracy: 0.9983\n",
            "Epoch 00010: val_loss improved from 0.06691 to 0.04518, saving model to best_model2.h5\n",
            "1161/1161 [==============================] - 25s 21ms/step - loss: 0.0080 - accuracy: 0.9983 - val_loss: 0.0452 - val_accuracy: 0.9880\n",
            "Epoch 11/40\n",
            "1159/1161 [============================>.] - ETA: 0s - loss: 0.0098 - accuracy: 0.9977\n",
            "Epoch 00011: val_loss did not improve from 0.04518\n",
            "1161/1161 [==============================] - 24s 21ms/step - loss: 0.0098 - accuracy: 0.9977 - val_loss: 0.0691 - val_accuracy: 0.9803\n",
            "Epoch 12/40\n",
            "1159/1161 [============================>.] - ETA: 0s - loss: 0.0071 - accuracy: 0.9983\n",
            "Epoch 00012: val_loss did not improve from 0.04518\n",
            "1161/1161 [==============================] - 24s 21ms/step - loss: 0.0071 - accuracy: 0.9983 - val_loss: 0.0682 - val_accuracy: 0.9806\n",
            "Epoch 13/40\n",
            "1159/1161 [============================>.] - ETA: 0s - loss: 0.0073 - accuracy: 0.9981\n",
            "Epoch 00013: val_loss improved from 0.04518 to 0.03592, saving model to best_model2.h5\n",
            "1161/1161 [==============================] - 24s 21ms/step - loss: 0.0073 - accuracy: 0.9981 - val_loss: 0.0359 - val_accuracy: 0.9923\n",
            "Epoch 14/40\n",
            "1159/1161 [============================>.] - ETA: 0s - loss: 0.0049 - accuracy: 0.9989\n",
            "Epoch 00014: val_loss did not improve from 0.03592\n",
            "1161/1161 [==============================] - 24s 21ms/step - loss: 0.0049 - accuracy: 0.9989 - val_loss: 0.0567 - val_accuracy: 0.9826\n",
            "Epoch 15/40\n",
            "1161/1161 [==============================] - ETA: 0s - loss: 0.0053 - accuracy: 0.9988\n",
            "Epoch 00015: val_loss improved from 0.03592 to 0.03046, saving model to best_model2.h5\n",
            "1161/1161 [==============================] - 25s 21ms/step - loss: 0.0053 - accuracy: 0.9988 - val_loss: 0.0305 - val_accuracy: 0.9923\n",
            "Epoch 16/40\n",
            "1160/1161 [============================>.] - ETA: 0s - loss: 0.0043 - accuracy: 0.9991\n",
            "Epoch 00016: val_loss did not improve from 0.03046\n",
            "1161/1161 [==============================] - 24s 21ms/step - loss: 0.0043 - accuracy: 0.9991 - val_loss: 0.0764 - val_accuracy: 0.9785\n",
            "Epoch 17/40\n",
            "1160/1161 [============================>.] - ETA: 0s - loss: 0.0046 - accuracy: 0.9989\n",
            "Epoch 00017: val_loss improved from 0.03046 to 0.02834, saving model to best_model2.h5\n",
            "1161/1161 [==============================] - 25s 21ms/step - loss: 0.0046 - accuracy: 0.9989 - val_loss: 0.0283 - val_accuracy: 0.9921\n",
            "Epoch 18/40\n",
            "1160/1161 [============================>.] - ETA: 0s - loss: 0.0038 - accuracy: 0.9992\n",
            "Epoch 00018: val_loss improved from 0.02834 to 0.02604, saving model to best_model2.h5\n",
            "1161/1161 [==============================] - 25s 21ms/step - loss: 0.0038 - accuracy: 0.9992 - val_loss: 0.0260 - val_accuracy: 0.9931\n",
            "Epoch 19/40\n",
            "1160/1161 [============================>.] - ETA: 0s - loss: 0.0034 - accuracy: 0.9993\n",
            "Epoch 00019: val_loss did not improve from 0.02604\n",
            "1161/1161 [==============================] - 24s 21ms/step - loss: 0.0034 - accuracy: 0.9993 - val_loss: 0.0337 - val_accuracy: 0.9921\n",
            "Epoch 20/40\n",
            "1161/1161 [==============================] - ETA: 0s - loss: 0.0046 - accuracy: 0.9988\n",
            "Epoch 00020: val_loss did not improve from 0.02604\n",
            "1161/1161 [==============================] - 24s 21ms/step - loss: 0.0046 - accuracy: 0.9988 - val_loss: 0.0291 - val_accuracy: 0.9918\n",
            "Epoch 21/40\n",
            "1160/1161 [============================>.] - ETA: 0s - loss: 0.0022 - accuracy: 0.9996\n",
            "Epoch 00021: val_loss improved from 0.02604 to 0.02598, saving model to best_model2.h5\n",
            "1161/1161 [==============================] - 25s 21ms/step - loss: 0.0022 - accuracy: 0.9996 - val_loss: 0.0260 - val_accuracy: 0.9941\n",
            "Epoch 22/40\n",
            "1160/1161 [============================>.] - ETA: 0s - loss: 0.0052 - accuracy: 0.9987\n",
            "Epoch 00022: val_loss did not improve from 0.02598\n",
            "1161/1161 [==============================] - 24s 21ms/step - loss: 0.0052 - accuracy: 0.9987 - val_loss: 0.0269 - val_accuracy: 0.9931\n",
            "Epoch 23/40\n",
            "1159/1161 [============================>.] - ETA: 0s - loss: 0.0026 - accuracy: 0.9994\n",
            "Epoch 00023: val_loss did not improve from 0.02598\n",
            "1161/1161 [==============================] - 25s 21ms/step - loss: 0.0026 - accuracy: 0.9994 - val_loss: 0.0307 - val_accuracy: 0.9916\n",
            "Epoch 24/40\n",
            "1161/1161 [==============================] - ETA: 0s - loss: 0.0026 - accuracy: 0.9993\n",
            "Epoch 00024: val_loss did not improve from 0.02598\n",
            "1161/1161 [==============================] - 24s 21ms/step - loss: 0.0026 - accuracy: 0.9993 - val_loss: 0.0538 - val_accuracy: 0.9821\n",
            "Epoch 25/40\n",
            "1160/1161 [============================>.] - ETA: 0s - loss: 0.0029 - accuracy: 0.9993\n",
            "Epoch 00025: val_loss did not improve from 0.02598\n",
            "1161/1161 [==============================] - 24s 21ms/step - loss: 0.0029 - accuracy: 0.9993 - val_loss: 0.0276 - val_accuracy: 0.9931\n",
            "Epoch 26/40\n",
            "1161/1161 [==============================] - ETA: 0s - loss: 0.0037 - accuracy: 0.9991\n",
            "Epoch 00026: val_loss improved from 0.02598 to 0.02097, saving model to best_model2.h5\n",
            "1161/1161 [==============================] - 24s 21ms/step - loss: 0.0037 - accuracy: 0.9991 - val_loss: 0.0210 - val_accuracy: 0.9944\n",
            "Epoch 27/40\n",
            "1161/1161 [==============================] - ETA: 0s - loss: 0.0016 - accuracy: 0.9996\n",
            "Epoch 00027: val_loss did not improve from 0.02097\n",
            "1161/1161 [==============================] - 24s 21ms/step - loss: 0.0016 - accuracy: 0.9996 - val_loss: 0.0846 - val_accuracy: 0.9762\n",
            "Epoch 28/40\n",
            "1161/1161 [==============================] - ETA: 0s - loss: 0.0034 - accuracy: 0.9991\n",
            "Epoch 00028: val_loss did not improve from 0.02097\n",
            "1161/1161 [==============================] - 24s 21ms/step - loss: 0.0034 - accuracy: 0.9991 - val_loss: 0.0266 - val_accuracy: 0.9959\n",
            "Epoch 29/40\n",
            "1160/1161 [============================>.] - ETA: 0s - loss: 3.1413e-04 - accuracy: 1.0000\n",
            "Epoch 00029: val_loss improved from 0.02097 to 0.01678, saving model to best_model2.h5\n",
            "1161/1161 [==============================] - 25s 21ms/step - loss: 3.1404e-04 - accuracy: 1.0000 - val_loss: 0.0168 - val_accuracy: 0.9967\n",
            "Epoch 30/40\n",
            "1161/1161 [==============================] - ETA: 0s - loss: 8.4624e-05 - accuracy: 1.0000\n",
            "Epoch 00030: val_loss improved from 0.01678 to 0.01669, saving model to best_model2.h5\n",
            "1161/1161 [==============================] - 25s 21ms/step - loss: 8.4624e-05 - accuracy: 1.0000 - val_loss: 0.0167 - val_accuracy: 0.9974\n",
            "Epoch 31/40\n",
            "1161/1161 [==============================] - ETA: 0s - loss: 0.0033 - accuracy: 0.9989\n",
            "Epoch 00031: val_loss did not improve from 0.01669\n",
            "1161/1161 [==============================] - 25s 21ms/step - loss: 0.0033 - accuracy: 0.9989 - val_loss: 1.3377 - val_accuracy: 0.7606\n",
            "Epoch 32/40\n",
            "1160/1161 [============================>.] - ETA: 0s - loss: 0.0038 - accuracy: 0.9990\n",
            "Epoch 00032: val_loss did not improve from 0.01669\n",
            "1161/1161 [==============================] - 24s 21ms/step - loss: 0.0038 - accuracy: 0.9990 - val_loss: 0.0260 - val_accuracy: 0.9939\n",
            "Epoch 33/40\n",
            "1161/1161 [==============================] - ETA: 0s - loss: 0.0021 - accuracy: 0.9995\n",
            "Epoch 00033: val_loss did not improve from 0.01669\n",
            "1161/1161 [==============================] - 24s 21ms/step - loss: 0.0021 - accuracy: 0.9995 - val_loss: 0.0502 - val_accuracy: 0.9882\n",
            "Epoch 34/40\n",
            "1160/1161 [============================>.] - ETA: 0s - loss: 0.0021 - accuracy: 0.9995\n",
            "Epoch 00034: val_loss did not improve from 0.01669\n",
            "1161/1161 [==============================] - 25s 21ms/step - loss: 0.0021 - accuracy: 0.9995 - val_loss: 0.0597 - val_accuracy: 0.9839\n",
            "Epoch 35/40\n",
            "1161/1161 [==============================] - ETA: 0s - loss: 0.0024 - accuracy: 0.9994\n",
            "Epoch 00035: val_loss did not improve from 0.01669\n",
            "1161/1161 [==============================] - 24s 21ms/step - loss: 0.0024 - accuracy: 0.9994 - val_loss: 0.0397 - val_accuracy: 0.9923\n",
            "Epoch 36/40\n",
            "1159/1161 [============================>.] - ETA: 0s - loss: 0.0025 - accuracy: 0.9993\n",
            "Epoch 00036: val_loss did not improve from 0.01669\n",
            "1161/1161 [==============================] - 24s 21ms/step - loss: 0.0025 - accuracy: 0.9993 - val_loss: 0.0243 - val_accuracy: 0.9951\n",
            "Epoch 37/40\n",
            "1160/1161 [============================>.] - ETA: 0s - loss: 4.6972e-04 - accuracy: 1.0000\n",
            "Epoch 00037: val_loss did not improve from 0.01669\n",
            "1161/1161 [==============================] - 24s 21ms/step - loss: 4.6956e-04 - accuracy: 1.0000 - val_loss: 0.0218 - val_accuracy: 0.9957\n",
            "Epoch 38/40\n",
            "1161/1161 [==============================] - ETA: 0s - loss: 0.0039 - accuracy: 0.9988\n",
            "Epoch 00038: val_loss did not improve from 0.01669\n",
            "1161/1161 [==============================] - 24s 21ms/step - loss: 0.0039 - accuracy: 0.9988 - val_loss: 0.0339 - val_accuracy: 0.9918\n",
            "Epoch 39/40\n",
            "1160/1161 [============================>.] - ETA: 0s - loss: 6.5752e-04 - accuracy: 0.9999\n",
            "Epoch 00039: val_loss did not improve from 0.01669\n",
            "1161/1161 [==============================] - 24s 21ms/step - loss: 6.5719e-04 - accuracy: 0.9999 - val_loss: 0.0313 - val_accuracy: 0.9934\n",
            "Epoch 40/40\n",
            "1159/1161 [============================>.] - ETA: 0s - loss: 2.7866e-04 - accuracy: 1.0000\n",
            "Epoch 00040: val_loss did not improve from 0.01669\n",
            "1161/1161 [==============================] - 24s 21ms/step - loss: 2.8313e-04 - accuracy: 1.0000 - val_loss: 0.0257 - val_accuracy: 0.9946\n"
          ],
          "name": "stdout"
        }
      ]
    },
    {
      "cell_type": "code",
      "metadata": {
        "id": "XPhnZcjQZZRF",
        "colab_type": "code",
        "colab": {
          "base_uri": "https://localhost:8080/",
          "height": 66
        },
        "outputId": "2c066f74-e6b9-4804-b3f0-93045b258c98"
      },
      "source": [
        "#checking the test accuracy of the moel after 40 epoch\n",
        "def test_accuracy():\n",
        "    err = []\n",
        "    t = 0\n",
        "    for i in range(predictions.shape[0]):\n",
        "        if (np.argmax(predictions[i]) == y_test_o[i]):\n",
        "            t = t+1\n",
        "        else:\n",
        "            err.append(i)\n",
        "    return t, float(t)*100/predictions.shape[0], err, len(err)*100/predictions.shape[0]\n",
        "\n",
        "result=test_accuracy()\n",
        "print(\"Test accuracy: {} %\".format(result[1]))\n",
        "print(\"No. of mis-classification: {} \".format(len(result[2])))\n",
        "print(\"Error rate: {} %\".format(result[3]))"
      ],
      "execution_count": 27,
      "outputs": [
        {
          "output_type": "stream",
          "text": [
            "Test accuracy: 99.54347826086956 %\n",
            "No. of mis-classification: 63 \n",
            "Error rate: 0.45652173913043476 %\n"
          ],
          "name": "stdout"
        }
      ]
    },
    {
      "cell_type": "code",
      "metadata": {
        "id": "PCvuX3cbHwst",
        "colab_type": "code",
        "colab": {
          "base_uri": "https://localhost:8080/",
          "height": 66
        },
        "outputId": "b13ffa4f-1b9b-4ac8-e429-a5a9c636ab29"
      },
      "source": [
        "# checking the test accuracy of the best model i.e with lowest validation loss over the 40 epochs\n",
        "savedmodel = load_model('best_model2.h5')\n",
        "prediction_2 = savedmodel.predict(X_test, verbose=0)\n",
        "def test_accuracy_2():\n",
        "    err = []\n",
        "    t = 0\n",
        "    for i in range(prediction_2.shape[0]):\n",
        "        if (np.argmax(prediction_2[i]) == y_test_o[i]):\n",
        "            t = t+1\n",
        "        else:\n",
        "            err.append(i)\n",
        "    return t, float(t)*100/prediction_2.shape[0], err, len(err)*100/predictions.shape[0]\n",
        "\n",
        "t_acc=test_accuracy_2()\n",
        "print(\"Test accuracy: {} %\".format(t_acc[1]))\n",
        "print(\"No. of mis-classification: {} \".format(len(t_acc[2])))\n",
        "print(\"Error rate: {} %\".format(t_acc[3]))\n"
      ],
      "execution_count": 25,
      "outputs": [
        {
          "output_type": "stream",
          "text": [
            "Test accuracy: 99.64492753623189 %\n",
            "No. of mis-classification: 49 \n",
            "Error rate: 0.35507246376811596 %\n"
          ],
          "name": "stdout"
        }
      ]
    },
    {
      "cell_type": "code",
      "metadata": {
        "id": "ECVd7FmbZmnm",
        "colab_type": "code",
        "colab": {
          "base_uri": "https://localhost:8080/",
          "height": 326
        },
        "outputId": "974a9dda-a565-42db-9466-4283981fa83b"
      },
      "source": [
        "#plotting the validation and trainig accuracy against epoch\n",
        "fig1 = plt.figure(figsize = (12,10))\n",
        "ax1 = fig1.add_subplot(2,2,1)\n",
        "ax2 = fig1.add_subplot(2,2,2)\n",
        "\n",
        "ax1.plot(np.arange(1,epoch+1), history.val_acc)\n",
        "ax1.set(xlabel='Epochs', ylabel='Validation Accuracy',\n",
        "       title='Epochs vs. Validation Accuracy')\n",
        "ax2.plot(np.arange(1,epoch+1), history.acc)\n",
        "ax2.set(xlabel='Epochs', ylabel='Training Accuracy',\n",
        "       title='Epochs vs. Training Accuracy')\n",
        "plt.show()"
      ],
      "execution_count": 28,
      "outputs": [
        {
          "output_type": "display_data",
          "data": {
            "image/png": "[encoded data removed]",
            "text/plain": [
              "<Figure size 864x720 with 2 Axes>"
            ]
          },
          "metadata": {
            "tags": [],
            "needs_background": "light"
          }
        }
      ]
    },
    {
      "cell_type": "code",
      "metadata": {
        "id": "ALO7YUmzZrkp",
        "colab_type": "code",
        "colab": {
          "base_uri": "https://localhost:8080/",
          "height": 326
        },
        "outputId": "13e076c2-4a0b-4f9b-e857-8b9a40428021"
      },
      "source": [
        "fig1 = plt.figure(figsize = (12,10))\n",
        "ax1 = fig1.add_subplot(2,2,1)\n",
        "ax2 = fig1.add_subplot(2,2,2)\n",
        "\n",
        "ax1.plot(np.arange(1,epoch+1), history.val_losses)\n",
        "ax1.set(xlabel='Epochs', ylabel='Validation Loss',\n",
        "       title='Epochs vs. Validation Loss')\n",
        "ax2.plot(np.arange(1,epoch+1), history.losses)\n",
        "ax2.set(xlabel='Epochs', ylabel='Training Loss',\n",
        "       title='Epochs vs. Training Loss')\n",
        "plt.show()"
      ],
      "execution_count": 29,
      "outputs": [
        {
          "output_type": "display_data",
          "data": {
            "image/png": "[encoded data removed]",
            "text/plain": [
              "<Figure size 864x720 with 2 Axes>"
            ]
          },
          "metadata": {
            "tags": [],
            "needs_background": "light"
          }
        }
      ]
    },
    {
      "cell_type": "code",
      "metadata": {
        "id": "Sl4cwbz-HzqB",
        "colab_type": "code",
        "colab": {
          "base_uri": "https://localhost:8080/",
          "height": 850
        },
        "outputId": "d8d6191e-b2b9-4749-efe9-eb67efc57391"
      },
      "source": [
        "model.summary()"
      ],
      "execution_count": 30,
      "outputs": [
        {
          "output_type": "stream",
          "text": [
            "Model: \"sequential_3\"\n",
            "_________________________________________________________________\n",
            "Layer (type)                 Output Shape              Param #   \n",
            "=================================================================\n",
            "conv2d_18 (Conv2D)           (None, 32, 32, 64)        640       \n",
            "_________________________________________________________________\n",
            "batch_normalization_18 (Batc (None, 32, 32, 64)        256       \n",
            "_________________________________________________________________\n",
            "activation_18 (Activation)   (None, 32, 32, 64)        0         \n",
            "_________________________________________________________________\n",
            "conv2d_19 (Conv2D)           (None, 32, 32, 128)       73856     \n",
            "_________________________________________________________________\n",
            "batch_normalization_19 (Batc (None, 32, 32, 128)       512       \n",
            "_________________________________________________________________\n",
            "activation_19 (Activation)   (None, 32, 32, 128)       0         \n",
            "_________________________________________________________________\n",
            "max_pooling2d_6 (MaxPooling2 (None, 16, 16, 128)       0         \n",
            "_________________________________________________________________\n",
            "conv2d_20 (Conv2D)           (None, 16, 16, 256)       295168    \n",
            "_________________________________________________________________\n",
            "batch_normalization_20 (Batc (None, 16, 16, 256)       1024      \n",
            "_________________________________________________________________\n",
            "activation_20 (Activation)   (None, 16, 16, 256)       0         \n",
            "_________________________________________________________________\n",
            "conv2d_21 (Conv2D)           (None, 16, 16, 512)       1180160   \n",
            "_________________________________________________________________\n",
            "batch_normalization_21 (Batc (None, 16, 16, 512)       2048      \n",
            "_________________________________________________________________\n",
            "activation_21 (Activation)   (None, 16, 16, 512)       0         \n",
            "_________________________________________________________________\n",
            "max_pooling2d_7 (MaxPooling2 (None, 8, 8, 512)         0         \n",
            "_________________________________________________________________\n",
            "conv2d_22 (Conv2D)           (None, 8, 8, 512)         262656    \n",
            "_________________________________________________________________\n",
            "batch_normalization_22 (Batc (None, 8, 8, 512)         2048      \n",
            "_________________________________________________________________\n",
            "activation_22 (Activation)   (None, 8, 8, 512)         0         \n",
            "_________________________________________________________________\n",
            "conv2d_23 (Conv2D)           (None, 8, 8, 46)          23598     \n",
            "_________________________________________________________________\n",
            "batch_normalization_23 (Batc (None, 8, 8, 46)          184       \n",
            "_________________________________________________________________\n",
            "activation_23 (Activation)   (None, 8, 8, 46)          0         \n",
            "_________________________________________________________________\n",
            "global_average_pooling2d_3 ( (None, 46)                0         \n",
            "_________________________________________________________________\n",
            "dense_3 (Dense)              (None, 46)                2162      \n",
            "=================================================================\n",
            "Total params: 1,844,312\n",
            "Trainable params: 1,841,276\n",
            "Non-trainable params: 3,036\n",
            "_________________________________________________________________\n"
          ],
          "name": "stdout"
        }
      ]
    }
  ]
}
