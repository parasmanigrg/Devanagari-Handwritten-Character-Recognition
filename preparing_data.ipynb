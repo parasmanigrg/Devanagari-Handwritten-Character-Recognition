{
 "cells": [
  {
   "cell_type": "code",
   "execution_count": 72,
   "metadata": {},
   "outputs": [],
   "source": [
    "import numpy as np\n",
    "import matplotlib.pyplot as plt\n",
    "import os\n",
    "import cv2\n",
    "from tqdm import tqdm\n",
    "import random"
   ]
  },
  {
   "cell_type": "code",
   "execution_count": 73,
   "metadata": {},
   "outputs": [],
   "source": [
    "DATA_train= \"/Users/parasgurung/Desktop/Dataset/Train\"\n",
    "CATEGORIES = [\"character_1_ka\",\"character_2_kha\",\"character_3_ga\",\"character_4_gha\",\"character_5_kna\",\"character_6_cha\",\"character_7_chha\",\"character_8_ja\",\"character_9_jha\",\"character_10_yna\",\"character_11_taamatar\",\"character_12_thaa\",\"character_13_daa\",\"character_14_dhaa\",\"character_15_adna\",\"character_16_tabala\",\"character_17_tha\",\"character_18_da\",\"character_19_dha\",\"character_20_na\",\"character_21_pa\",\"character_22_pha\",\"character_23_ba\",\"character_24_bha\",\"character_25_ma\",\"character_26_yaw\",\"character_27_ra\",\"character_28_la\",\"character_29_waw\",\"character_30_motosaw\",\"character_31_petchiryasaw\",\"character_32_patalosaw\",\"character_33_ha\",\"character_34_chhya\",\"character_35_tra\",\"character_36_gya\",\"digit_0\",\"digit_1\",\"digit_2\",\"digit_3\",\"digit_4\",\"digit_5\",\"digit_6\",\"digit_7\",\"digit_8\",\"digit_9\"]\n",
    "DATA_test= \"/Users/parasgurung/Desktop/Dataset/Test\"\n"
   ]
  },
  {
   "cell_type": "code",
   "execution_count": 75,
   "metadata": {},
   "outputs": [
    {
     "name": "stdout",
     "output_type": "stream",
     "text": [
      "(32, 32)\n"
     ]
    }
   ],
   "source": [
    "print(img_array.shape)"
   ]
  },
  {
   "cell_type": "code",
   "execution_count": 95,
   "metadata": {},
   "outputs": [
    {
     "name": "stderr",
     "output_type": "stream",
     "text": [
      "100%|██████████| 1700/1700 [00:00<00:00, 1772.21it/s]\n",
      "100%|██████████| 1700/1700 [00:00<00:00, 1938.06it/s]\n",
      "100%|██████████| 1700/1700 [00:00<00:00, 2338.32it/s]\n",
      "100%|██████████| 1700/1700 [00:00<00:00, 2638.11it/s]\n",
      "100%|██████████| 1700/1700 [00:00<00:00, 2380.51it/s]\n",
      "100%|██████████| 1700/1700 [00:00<00:00, 2438.47it/s]\n",
      "100%|██████████| 1700/1700 [00:00<00:00, 2467.36it/s]\n",
      "100%|██████████| 1700/1700 [00:00<00:00, 2577.15it/s]\n",
      "100%|██████████| 1700/1700 [00:00<00:00, 1948.34it/s]\n",
      "100%|██████████| 1700/1700 [00:00<00:00, 2031.37it/s]\n",
      "100%|██████████| 1700/1700 [00:00<00:00, 1950.34it/s]\n",
      "100%|██████████| 1700/1700 [00:00<00:00, 2530.75it/s]\n",
      "100%|██████████| 1700/1700 [00:00<00:00, 2625.15it/s]\n",
      "100%|██████████| 1700/1700 [00:00<00:00, 2619.81it/s]\n",
      "100%|██████████| 1700/1700 [00:00<00:00, 2721.96it/s]\n",
      "100%|██████████| 1700/1700 [00:00<00:00, 2630.13it/s]\n",
      "100%|██████████| 1700/1700 [00:00<00:00, 2626.53it/s]\n",
      "100%|██████████| 1700/1700 [00:00<00:00, 2710.58it/s]\n",
      "100%|██████████| 1700/1700 [00:00<00:00, 2649.31it/s]\n",
      "100%|██████████| 1700/1700 [00:00<00:00, 2663.48it/s]\n",
      "100%|██████████| 1700/1700 [00:00<00:00, 2744.24it/s]\n",
      "100%|██████████| 1700/1700 [00:00<00:00, 2689.81it/s]\n",
      "100%|██████████| 1700/1700 [00:00<00:00, 2651.97it/s]\n",
      "100%|██████████| 1700/1700 [00:00<00:00, 2613.10it/s]\n",
      "100%|██████████| 1700/1700 [00:00<00:00, 2597.68it/s]\n",
      "100%|██████████| 1700/1700 [00:00<00:00, 2715.91it/s]\n",
      "100%|██████████| 1700/1700 [00:00<00:00, 2587.55it/s]\n",
      "100%|██████████| 1700/1700 [00:00<00:00, 2592.00it/s]\n",
      "100%|██████████| 1700/1700 [00:00<00:00, 2602.51it/s]\n",
      "100%|██████████| 1700/1700 [00:00<00:00, 2590.25it/s]\n",
      "100%|██████████| 1700/1700 [00:00<00:00, 2402.94it/s]\n",
      "100%|██████████| 1700/1700 [00:00<00:00, 2443.59it/s]\n",
      "100%|██████████| 1700/1700 [00:00<00:00, 2116.25it/s]\n",
      "100%|██████████| 1700/1700 [00:00<00:00, 2388.26it/s]\n",
      "100%|██████████| 1700/1700 [00:00<00:00, 1860.86it/s]\n",
      "100%|██████████| 1700/1700 [00:00<00:00, 2655.25it/s]\n",
      "100%|██████████| 1700/1700 [00:00<00:00, 2619.83it/s]\n",
      "100%|██████████| 1700/1700 [00:00<00:00, 2254.77it/s]\n",
      "100%|██████████| 1700/1700 [00:00<00:00, 2570.39it/s]\n",
      "100%|██████████| 1700/1700 [00:00<00:00, 2619.90it/s]\n",
      "100%|██████████| 1700/1700 [00:00<00:00, 2637.39it/s]\n",
      "100%|██████████| 1700/1700 [00:00<00:00, 2704.83it/s]\n",
      "100%|██████████| 1700/1700 [00:00<00:00, 2575.76it/s]\n",
      "100%|██████████| 1700/1700 [00:00<00:00, 2777.22it/s]\n",
      "100%|██████████| 1700/1700 [00:00<00:00, 2753.39it/s]\n",
      "100%|██████████| 1700/1700 [00:00<00:00, 2794.21it/s]"
     ]
    },
    {
     "name": "stdout",
     "output_type": "stream",
     "text": [
      "78200\n"
     ]
    },
    {
     "name": "stderr",
     "output_type": "stream",
     "text": [
      "\n"
     ]
    }
   ],
   "source": [
    "training_data = []\n",
    "\n",
    "def create_training_data():\n",
    "    for category in CATEGORIES:  # characters\n",
    "\n",
    "        path = os.path.join(DATA_train,category)  # create path to characters\n",
    "        class_num = CATEGORIES.index(category)  # get the classification\n",
    "\n",
    "        for img in tqdm(os.listdir(path)):  # iterate over each image per categories\n",
    "            try:\n",
    "                img_array = cv2.imread(os.path.join(path,img) ,cv2.IMREAD_GRAYSCALE)  # convert to array\n",
    "                \n",
    "                training_data.append([img_array, class_num])  # add this to our training_data\n",
    "            except Exception as e:  # in the interest in keeping the output clean...\n",
    "                pass\n",
    "            \n",
    "\n",
    "create_training_data()\n",
    "\n",
    "print(len(training_data))\n",
    "\n"
   ]
  },
  {
   "cell_type": "code",
   "execution_count": 96,
   "metadata": {},
   "outputs": [
    {
     "name": "stderr",
     "output_type": "stream",
     "text": [
      "100%|██████████| 300/300 [00:00<00:00, 1926.00it/s]\n",
      "100%|██████████| 300/300 [00:00<00:00, 2264.27it/s]\n",
      "100%|██████████| 300/300 [00:00<00:00, 1988.93it/s]\n",
      "100%|██████████| 300/300 [00:00<00:00, 2383.09it/s]\n",
      "100%|██████████| 300/300 [00:00<00:00, 2210.30it/s]\n",
      "100%|██████████| 300/300 [00:00<00:00, 1942.95it/s]\n",
      "100%|██████████| 300/300 [00:00<00:00, 1797.88it/s]\n",
      "100%|██████████| 300/300 [00:00<00:00, 2130.32it/s]\n",
      "100%|██████████| 300/300 [00:00<00:00, 1568.24it/s]\n",
      "100%|██████████| 300/300 [00:00<00:00, 2052.12it/s]\n",
      "100%|██████████| 300/300 [00:00<00:00, 2323.18it/s]\n",
      "100%|██████████| 300/300 [00:00<00:00, 2242.66it/s]\n",
      "100%|██████████| 300/300 [00:00<00:00, 2122.00it/s]\n",
      "100%|██████████| 300/300 [00:00<00:00, 1934.55it/s]\n",
      "100%|██████████| 300/300 [00:00<00:00, 2004.50it/s]\n",
      "100%|██████████| 300/300 [00:00<00:00, 1680.70it/s]\n",
      "100%|██████████| 300/300 [00:00<00:00, 1698.94it/s]\n",
      "100%|██████████| 300/300 [00:00<00:00, 1076.95it/s]\n",
      "100%|██████████| 300/300 [00:00<00:00, 1670.05it/s]\n",
      "100%|██████████| 300/300 [00:00<00:00, 1216.84it/s]\n",
      "100%|██████████| 300/300 [00:00<00:00, 2057.39it/s]\n",
      "100%|██████████| 300/300 [00:00<00:00, 2885.45it/s]\n",
      "100%|██████████| 300/300 [00:00<00:00, 2371.11it/s]\n",
      "100%|██████████| 300/300 [00:00<00:00, 2274.07it/s]\n",
      "100%|██████████| 300/300 [00:00<00:00, 2914.26it/s]\n",
      "100%|██████████| 300/300 [00:00<00:00, 1587.33it/s]\n",
      "100%|██████████| 300/300 [00:00<00:00, 1827.10it/s]\n",
      "100%|██████████| 300/300 [00:00<00:00, 1827.30it/s]\n",
      "100%|██████████| 300/300 [00:00<00:00, 1591.07it/s]\n",
      "100%|██████████| 300/300 [00:00<00:00, 1221.38it/s]\n",
      "100%|██████████| 300/300 [00:00<00:00, 1093.77it/s]\n",
      "100%|██████████| 300/300 [00:00<00:00, 2124.36it/s]\n",
      "100%|██████████| 300/300 [00:00<00:00, 2283.30it/s]\n",
      "100%|██████████| 300/300 [00:00<00:00, 2237.52it/s]\n",
      "100%|██████████| 300/300 [00:00<00:00, 2843.69it/s]\n",
      "100%|██████████| 300/300 [00:00<00:00, 2949.73it/s]\n",
      "100%|██████████| 300/300 [00:00<00:00, 2939.28it/s]\n",
      "100%|██████████| 300/300 [00:00<00:00, 2673.32it/s]\n",
      "100%|██████████| 300/300 [00:00<00:00, 2550.95it/s]\n",
      "100%|██████████| 300/300 [00:00<00:00, 2182.40it/s]\n",
      "100%|██████████| 300/300 [00:00<00:00, 2880.24it/s]\n",
      "100%|██████████| 300/300 [00:00<00:00, 2875.77it/s]\n",
      "100%|██████████| 300/300 [00:00<00:00, 2537.24it/s]\n",
      "100%|██████████| 300/300 [00:00<00:00, 2275.69it/s]\n",
      "100%|██████████| 300/300 [00:00<00:00, 2912.96it/s]\n",
      "100%|██████████| 300/300 [00:00<00:00, 2223.56it/s]"
     ]
    },
    {
     "name": "stdout",
     "output_type": "stream",
     "text": [
      "13800\n"
     ]
    },
    {
     "name": "stderr",
     "output_type": "stream",
     "text": [
      "\n"
     ]
    }
   ],
   "source": [
    "testing_data=[]\n",
    "def create_testing_data():\n",
    "    for category in CATEGORIES:  # characters\n",
    "\n",
    "        path = os.path.join(DATA_test,category)  # create path to characters\n",
    "        class_num = CATEGORIES.index(category)  # get the classification\n",
    "\n",
    "        for img in tqdm(os.listdir(path)):  # iterate over each image per categories\n",
    "            try:\n",
    "                img_array = cv2.imread(os.path.join(path,img) ,cv2.IMREAD_GRAYSCALE)  # convert to array\n",
    "                \n",
    "                testing_data.append([img_array, class_num])  # add this to our training_data\n",
    "            except Exception as e:  # in the interest in keeping the output clean...\n",
    "                pass\n",
    "\n",
    "create_testing_data()\n",
    "\n",
    "print(len(testing_data))"
   ]
  },
  {
   "cell_type": "code",
   "execution_count": 97,
   "metadata": {},
   "outputs": [],
   "source": [
    "#shuffling the data\n",
    "random.shuffle(training_data)\n",
    "random.shuffle(testing_data)"
   ]
  },
  {
   "cell_type": "code",
   "execution_count": 101,
   "metadata": {},
   "outputs": [],
   "source": [
    "#making x and y array and adding the features and labels to it for training data\n",
    "X_train = []\n",
    "y_train = []\n",
    "IMG_SIZE=32\n",
    "for features,label in training_data:\n",
    "    X_train.append(features)\n",
    "    y_train.append(label)\n"
   ]
  },
  {
   "cell_type": "code",
   "execution_count": 1,
   "metadata": {},
   "outputs": [],
   "source": [
    "#making x and y array and adding the features and labels to it for testing data\n",
    "X_test = []\n",
    "y_test = []\n",
    "for features,label in testing_data:\n",
    "    X_test.append(features)\n",
    "    y_test.append(label)\n"
   ]
  },
  {
   "cell_type": "code",
   "execution_count": 103,
   "metadata": {},
   "outputs": [
    {
     "data": {
      "image/png": "[encoded data removed]",
      "text/plain": [
       "<Figure size 1080x1080 with 10 Axes>"
      ]
     },
     "metadata": {
      "needs_background": "light"
     },
     "output_type": "display_data"
    },
    {
     "name": "stdout",
     "output_type": "stream",
     "text": [
      "Labels : [41, 6, 10, 42, 12]\n",
      "Labels : [32, 9, 9, 39, 42]\n"
     ]
    }
   ],
   "source": [
    "#plotting the fist 10 images of training dataset\n",
    "fig1 = plt.figure(figsize = (15,15))\n",
    "\n",
    "for i in range(5):\n",
    "    ax1 = fig1.add_subplot(1,5,i+1) \n",
    "    ax1.imshow(X_train[i], interpolation='none')\n",
    "    ax2 = fig1.add_subplot(2,5,i+6) \n",
    "    ax2.imshow(X_train[i+6], interpolation='none')\n",
    "plt.show()\n",
    "\n",
    "print(\"Labels : {}\".format(y[0:]))\n",
    "print(\"Labels : {}\".format(y[6:11]))\n"
   ]
  },
  {
   "cell_type": "code",
   "execution_count": 104,
   "metadata": {},
   "outputs": [],
   "source": [
    "import pickle\n",
    "#save data by pickle module\n",
    "pickle_out = open(\"X_train.pickle\",\"wb\")\n",
    "pickle.dump(X_train, pickle_out)\n",
    "pickle_out.close()\n",
    "\n",
    "pickle_out = open(\"y_train.pickle\",\"wb\")\n",
    "pickle.dump(y_train, pickle_out)\n",
    "pickle_out.close()\n",
    "\n",
    "pickle_out = open(\"X_test.pickle\",\"wb\")\n",
    "pickle.dump(X_test, pickle_out)\n",
    "pickle_out.close()\n",
    "\n",
    "pickle_out = open(\"y_test.pickle\",\"wb\")\n",
    "pickle.dump(y_test, pickle_out)\n",
    "pickle_out.close()"
   ]
  }
 ],
 "metadata": {
  "kernelspec": {
   "display_name": "Python 3",
   "language": "python",
   "name": "python3"
  },
  "language_info": {
   "codemirror_mode": {
    "name": "ipython",
    "version": 3
   },
   "file_extension": ".py",
   "mimetype": "text/x-python",
   "name": "python",
   "nbconvert_exporter": "python",
   "pygments_lexer": "ipython3",
   "version": "3.8.0"
  }
 },
 "nbformat": 4,
 "nbformat_minor": 4
}
